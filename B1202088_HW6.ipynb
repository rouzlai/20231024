{
  "nbformat": 4,
  "nbformat_minor": 0,
  "metadata": {
    "colab": {
      "provenance": []
    },
    "kernelspec": {
      "name": "python3",
      "display_name": "Python 3"
    },
    "language_info": {
      "name": "python"
    }
  },
  "cells": [
    {
      "cell_type": "code",
      "source": [
        "height=int(input(\"請輸入聖誕樹高度：\"))\n",
        "def draw_tree(height):\n",
        "  for i in range(1, height + 1):\n",
        "    for j in range(height - i):\n",
        "      print(\" \", end=\"\")\n",
        "    for j in range(2 * i - 1):\n",
        "      print(\"*\", end=\"\")\n",
        "    print()\n",
        "draw_tree(height)\n",
        "for i in range(5):\n",
        "  a = \"***\"\n",
        "  print (\" \"*(height-3),a)"
      ],
      "metadata": {
        "colab": {
          "base_uri": "https://localhost:8080/"
        },
        "id": "E01SeFlMnbob",
        "outputId": "a997733d-ae17-4f44-9613-ab4059bd8162"
      },
      "execution_count": null,
      "outputs": [
        {
          "output_type": "stream",
          "name": "stdout",
          "text": [
            "請輸入聖誕樹高度：12\n",
            "           *\n",
            "          ***\n",
            "         *****\n",
            "        *******\n",
            "       *********\n",
            "      ***********\n",
            "     *************\n",
            "    ***************\n",
            "   *****************\n",
            "  *******************\n",
            " *********************\n",
            "***********************\n",
            "          ***\n",
            "          ***\n",
            "          ***\n",
            "          ***\n",
            "          ***\n"
          ]
        }
      ]
    },
    {
      "cell_type": "code",
      "source": [
        "def output(h,w):\n",
        "  bmi = w / (h/100)**2\n",
        "  if bmi < 18.5:\n",
        "    return bmi,\"過輕\"\n",
        "  elif bmi>= 18.5 and bmi <24:\n",
        "    return bmi,\"適中\"\n",
        "  elif bmi >= 24 and bmi <27:\n",
        "    return bmi,\"過重\"\n",
        "  else:\n",
        "    return bmi,\"肥胖\"\n",
        "try:\n",
        "  height = float(input(\"請輸入您的身高（公分）：\"))\n",
        "  weight = float(input(\"請輸入您的體重（公斤）：\"))\n",
        "  a,b = output(height,weight)\n",
        "  print(\"BMI：\",round(a,1),\"\\n體位：\",b)\n",
        "except:\n",
        "  print(\"輸入內容錯誤。\")"
      ],
      "metadata": {
        "colab": {
          "base_uri": "https://localhost:8080/"
        },
        "id": "hhiB-kDDeVL7",
        "outputId": "51e73377-01a8-4311-bcfb-bfae650f1948"
      },
      "execution_count": 1,
      "outputs": [
        {
          "output_type": "stream",
          "name": "stdout",
          "text": [
            "請輸入您的身高（公分）：160\n",
            "請輸入您的體重（公斤）：50\n",
            "BMI： 19.5 \n",
            "體位： 適中\n"
          ]
        }
      ]
    }
  ]
}